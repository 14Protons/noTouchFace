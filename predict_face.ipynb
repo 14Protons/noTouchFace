{
 "cells": [
  {
   "cell_type": "code",
   "execution_count": null,
   "metadata": {},
   "outputs": [],
   "source": [
    "# !pip install voila\n",
    "# !jupyter serverextension enable voila --sys-prefix"
   ]
  },
  {
   "cell_type": "code",
   "execution_count": null,
   "metadata": {},
   "outputs": [],
   "source": [
    "#from fastai.vision.all import Path\n",
    "from fastai.vision.all import load_learner\n",
    "from fastai.vision.all import PILImage\n",
    "from fastai.vision.widgets import *"
   ]
  },
  {
   "cell_type": "code",
   "execution_count": null,
   "metadata": {},
   "outputs": [],
   "source": [
    "# this cell isn't required on linux servers (all servers) just windows\n",
    "# import pathlib\n",
    "# temp = pathlib.PosixPath\n",
    "# pathlib.PosixPath = pathlib.WindowsPath"
   ]
  },
  {
   "cell_type": "code",
   "execution_count": null,
   "metadata": {},
   "outputs": [],
   "source": [
    "learn_inf = load_learner('facesMarch12.pkl', cpu=True)\n",
    "btn_upload = widgets.FileUpload()\n",
    "out_pl = widgets.Output()\n",
    "lbl_pred = widgets.Label()\n",
    "lbl_prob = widgets.Label()"
   ]
  },
  {
   "cell_type": "code",
   "execution_count": null,
   "metadata": {},
   "outputs": [],
   "source": [
    "lbl_response = widgets.Label()\n",
    "lbl_pred_again = widgets.Label()"
   ]
  },
  {
   "cell_type": "code",
   "execution_count": null,
   "metadata": {},
   "outputs": [],
   "source": [
    "def on_click_classify(change):\n",
    "    img = PILImage.create(btn_upload.data[-1])\n",
    "    out_pl.clear_output()\n",
    "    with out_pl: display(img.to_thumb(128,128))\n",
    "    pred,pred_idx,probs = learn_inf.predict(img)\n",
    "    lbl_pred.value = ('Prediction: {}'.format(pred))\n",
    "    lbl_prob.value = ('Probability: {:0.1%}'.format(probs[pred_idx]))\n",
    "    \n",
    "    # reacting to the prediction\n",
    "    raw_prob = float('{:.4f}'.format(probs[pred_idx]))\n",
    "    raw_idx = int('{}'.format(pred_idx))\n",
    "    if raw_prob < 0.85:\n",
    "        lbl_response.value = (\"that one isn't clear, let Tony know where more training is required\")\n",
    "    elif raw_idx == 0:\n",
    "        lbl_response.value = ('good job, keep it up')\n",
    "    elif (raw_idx == 2):\n",
    "        lbl_response.value = ('HEY, STOP TOUCHING YOUR FACE')\n",
    "    else:\n",
    "        lbl_response.value = (\"I can't see anyone\")\n",
    "    lbl_pred_again.value = ('Click upload to try another image')\n",
    "    \n",
    "btn_upload.observe(on_click_classify, names=['data'])"
   ]
  },
  {
   "cell_type": "markdown",
   "metadata": {},
   "source": [
    "## Tony's \"Don't touch your face\" covid-19 defence tool\n",
    "Powered by AI, this tool is intended to be used to help form good habits \n",
    "\n",
    "(In the spirit of \"Don't let perfection get in the way of progress\" here's something that isn't polished, yet.)\n",
    "\n",
    "   future development planned:\n",
    "   1. find a reliable, secure, way to feed webcam images into this image clasifier.  for now, please choose your own image to clasify.  \n",
    "    \n",
    "   2. improved user interface\n",
    "    \n",
    "   3. an audible alarm to sound when touching face is detected. so this can be run in the background and still provide a little value\n",
    "    \n",
    "   4. in a differnt repo, run this classifier, live, locally.  reduces web traffic and associated security concerns of streaming your webcam to a remote server\n",
    "\n",
    "\n",
    "-------------------------------------------------------------------------------------------\n"
   ]
  },
  {
   "cell_type": "code",
   "execution_count": null,
   "metadata": {},
   "outputs": [],
   "source": [
    "display(VBox([widgets.Label('Select your face image'), btn_upload, out_pl, lbl_pred, lbl_response, lbl_prob, lbl_pred_again]))"
   ]
  }
 ],
 "metadata": {
  "kernelspec": {
   "display_name": "Python 3",
   "language": "python",
   "name": "python3"
  },
  "language_info": {
   "codemirror_mode": {
    "name": "ipython",
    "version": 3
   },
   "file_extension": ".py",
   "mimetype": "text/x-python",
   "name": "python",
   "nbconvert_exporter": "python",
   "pygments_lexer": "ipython3",
   "version": "3.7.10"
  }
 },
 "nbformat": 4,
 "nbformat_minor": 4
}
